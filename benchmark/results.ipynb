{
 "cells": [
  {
   "cell_type": "code",
   "execution_count": 7,
   "id": "b3edae65-ec1c-4318-b825-1ea20cea1f3c",
   "metadata": {},
   "outputs": [],
   "source": [
    "import pandas as pd\n",
    "import numpy as np\n",
    "import matplotlib.pyplot as plt\n",
    "import seaborn as sns\n",
    "%matplotlib inline\n",
    "pd.options.display.float_format = '{:.3f}'.format\n",
    "def extract_arch(model):\n",
    "    vit, size, patch_size, *rest = model.split(\"-\")\n",
    "    return vit+\"-\"+size+\"-\"+patch_size"
   ]
  },
  {
   "cell_type": "code",
   "execution_count": 2,
   "id": "62911961-311b-43dc-acf4-7af886be969d",
   "metadata": {},
   "outputs": [],
   "source": [
    "dataset_type = pd.read_csv(\"dataset_type.csv\").set_index(\"dataset\")[\"type\"].to_dict()\n",
    "df = pd.read_csv(\"benchmark.csv\")\n",
    "vtab_plus = list(map(lambda s:s.strip(), open(\"datasets.txt\").readlines()))\n",
    "df = df[df.dataset.isin(vtab_plus)]\n",
    "df.loc[:, \"dataset_type\"] = df.dataset.apply(lambda d:dataset_type[d])\n",
    "df.loc[:, \"model_arch\"] = df.model.apply(extract_arch)"
   ]
  },
  {
   "cell_type": "code",
   "execution_count": 3,
   "id": "84305a59",
   "metadata": {},
   "outputs": [],
   "source": [
    "df_retrieval = df[df[\"dataset_type\"] == \"retrieval\"]\n",
    "df = df[df[\"dataset_type\"] != \"retrieval\"]\n",
    "df = df.drop([\"image_retrieval_recall@5\", \"text_retrieval_recall@5\"], axis=1)\n",
    "dataset_type = {k:v for k,v in dataset_type.items() if v != \"retrieval\"}"
   ]
  },
  {
   "cell_type": "markdown",
   "id": "5a550373-8f81-4465-98e4-1c4e9e0f4e5a",
   "metadata": {},
   "source": [
    "# Accuracy of all models on all datasets"
   ]
  },
  {
   "cell_type": "code",
   "execution_count": null,
   "id": "c9373820-7e48-480a-b2e9-6bec50b3dc63",
   "metadata": {},
   "outputs": [
    {
     "data": {
      "text/plain": [
       "<AxesSubplot:xlabel='dataset', ylabel='acc1'>"
      ]
     },
     "execution_count": 8,
     "metadata": {},
     "output_type": "execute_result"
    }
   ],
   "source": [
    "fig = plt.figure(figsize=(12,8))\n",
    "#order = df.sort_values(by=\"dataset_type\").dataset.unique()\n",
    "order = list(dataset_type.keys())\n",
    "ax = sns.barplot(\n",
    "    x=\"dataset\", y=\"acc1\", \n",
    "    data=df,\n",
    "    order=order,\n",
    "    hue=\"model_fullname\"\n",
    ")\n",
    "ax.set_xticklabels(ax.get_xticklabels(),rotation = 90)\n",
    "ax"
   ]
  },
  {
   "cell_type": "markdown",
   "id": "02e6ee8f-d3a3-48da-8f6b-5e568c947796",
   "metadata": {},
   "source": [
    "# Zooming on a specific architecture"
   ]
  },
  {
   "cell_type": "code",
   "execution_count": null,
   "id": "8ab3d735-f6ea-4c80-a076-19777dbc7573",
   "metadata": {},
   "outputs": [],
   "source": [
    "fig = plt.figure(figsize=(12,8))\n",
    "order = list(dataset_type.keys())\n",
    "d = df[df.model_arch==\"ViT-B-32\"]\n",
    "ax = sns.barplot(\n",
    "    x=\"dataset\", y=\"acc1\", \n",
    "    data=d,\n",
    "    order=order,\n",
    "    hue=\"model_fullname\"\n",
    ")\n",
    "ax.set_xticklabels(ax.get_xticklabels(),rotation = 90)\n",
    "ax"
   ]
  },
  {
   "cell_type": "markdown",
   "id": "9056c48c-4070-4501-a91a-da050f812217",
   "metadata": {},
   "source": [
    "# Accuracy averaged over all models for each dataset"
   ]
  },
  {
   "cell_type": "code",
   "execution_count": null,
   "id": "809fc438-1f91-4c73-bdc2-e72b72abc11b",
   "metadata": {},
   "outputs": [],
   "source": [
    "fig = plt.figure(figsize=(12,8))\n",
    "order = list(dataset_type.keys())\n",
    "ax = sns.barplot(\n",
    "    x=\"dataset\", y=\"acc1\", data=df,\n",
    "    order=order\n",
    ")\n",
    "ax.set_xticklabels(ax.get_xticklabels(),rotation = 90)\n",
    "ax"
   ]
  },
  {
   "cell_type": "markdown",
   "id": "0cd85d6a-2b71-44e6-a4b6-96a58a9400b7",
   "metadata": {},
   "source": [
    "# Grouping over architecture for each dataset"
   ]
  },
  {
   "cell_type": "code",
   "execution_count": null,
   "id": "169f49c6-deec-4534-a120-635e7537f276",
   "metadata": {},
   "outputs": [],
   "source": [
    "fig = plt.figure(figsize=(12,8))\n",
    "order = list(dataset_type.keys())\n",
    "ax = sns.barplot(\n",
    "    x=\"dataset\", y=\"acc1\", \n",
    "    data=df,\n",
    "    order=order,\n",
    "    hue=\"model_arch\"\n",
    ")\n",
    "ax.set_xticklabels(ax.get_xticklabels(),rotation = 90)\n",
    "ax"
   ]
  },
  {
   "cell_type": "markdown",
   "id": "b397daeb-e12c-4bae-887a-8c4d7bfd7db7",
   "metadata": {},
   "source": [
    "# Grouping over pre-training data source"
   ]
  },
  {
   "cell_type": "code",
   "execution_count": null,
   "id": "c7c746f2-820c-4939-80dc-796efef941e4",
   "metadata": {},
   "outputs": [],
   "source": [
    "fig = plt.figure(figsize=(12,8))\n",
    "order = list(dataset_type.keys())\n",
    "d = df.copy()\n",
    "ax = sns.barplot(\n",
    "    x=\"dataset\", y=\"acc1\", \n",
    "    data=d,\n",
    "    order=order,\n",
    "    hue=\"pretrained\"\n",
    ")\n",
    "ax.set_xticklabels(ax.get_xticklabels(),rotation = 90)\n",
    "ax"
   ]
  },
  {
   "cell_type": "markdown",
   "id": "b914d109-eec9-40f4-b0f8-23eb179dc49a",
   "metadata": {},
   "source": [
    "# Best results from each pre-training source"
   ]
  },
  {
   "cell_type": "code",
   "execution_count": null,
   "id": "c70befe3-0c72-4f6c-b57f-0d1a67ae2553",
   "metadata": {},
   "outputs": [],
   "source": [
    "fig = plt.figure(figsize=(12,8))\n",
    "order = list(dataset_type.keys())\n",
    "d = df.copy()\n",
    "ax = sns.barplot(\n",
    "    x=\"dataset\", y=\"acc1\", \n",
    "    data=d,\n",
    "    order=order,\n",
    "    hue=\"pretrained\",\n",
    "    estimator=np.max,\n",
    "    ci=None\n",
    ")\n",
    "ax.set_xticklabels(ax.get_xticklabels(),rotation = 90)\n",
    "ax"
   ]
  },
  {
   "cell_type": "markdown",
   "id": "eea94f09-18c1-445b-a4e2-7418f25c816b",
   "metadata": {},
   "source": [
    "# Detailed results"
   ]
  },
  {
   "cell_type": "markdown",
   "id": "ccba4abe-53bc-4092-b05b-dafc0eccb4c5",
   "metadata": {},
   "source": [
    "### All results (acc1)"
   ]
  },
  {
   "cell_type": "code",
   "execution_count": null,
   "id": "f03782e4-be8f-4e3b-a699-c516da5c62a2",
   "metadata": {},
   "outputs": [],
   "source": [
    "metric = \"acc1\"\n",
    "df_metric = pd.pivot(df, index=\"model_fullname\", columns=\"dataset\", values=metric).T.dropna()\n",
    "df_metric"
   ]
  },
  {
   "cell_type": "code",
   "execution_count": null,
   "id": "208d6deb-2f0c-47e8-884a-b3c36da17a57",
   "metadata": {},
   "outputs": [],
   "source": [
    "metric = \"mean_per_class_recall\"\n",
    "df_metric = pd.pivot(df, index=\"model_fullname\", columns=\"dataset\", values=metric).T.dropna()\n",
    "df_metric"
   ]
  },
  {
   "cell_type": "markdown",
   "id": "7f9eb124-635a-4076-ae90-0199a862202c",
   "metadata": {},
   "source": [
    "### Imagenet robustness results (acc1)"
   ]
  },
  {
   "cell_type": "code",
   "execution_count": null,
   "id": "e1c11461-63a1-49e5-9199-d8be38ab8f09",
   "metadata": {},
   "outputs": [],
   "source": [
    "# Imagenet robustness results\n",
    "metric = \"acc1\"\n",
    "df_metric = pd.pivot(df, index=\"model_fullname\", columns=\"dataset\", values=metric).T.dropna()\n",
    "df_metric[(df_metric.index.str.startswith(\"imagenet\")) | (df_metric.index==\"objectnet\")]"
   ]
  },
  {
   "cell_type": "markdown",
   "id": "36d7adac-b3b1-4421-af4f-f7d820592e11",
   "metadata": {},
   "source": [
    "# Robustness plot"
   ]
  },
  {
   "cell_type": "markdown",
   "id": "ec10d993-7934-476b-94d7-8cde3fedc9ee",
   "metadata": {},
   "source": [
    "Here, following \"Measuring Robustness to Natural Distribution Shifts\n",
    "in Image Classification\" (https://arxiv.org/pdf/2007.00644.pdf, https://share.streamlit.io/modestyachts/imagenet-testbed-website/main/website.py),\n",
    "we show  the deviation from the line fit of (x=imagenet1k accuracy, y=imagenetv2/imagenet-1/imagenet_sketch) which was used\n",
    "to measure robustnest improvements separately from accuracy improvements in imagenet1k, as the two are correlated.\n",
    "\n",
    "In the plot below, deviation from the line are improvements in robustness."
   ]
  },
  {
   "cell_type": "code",
   "execution_count": null,
   "id": "3fa79a28-b555-45d2-950d-efa415084004",
   "metadata": {},
   "outputs": [],
   "source": [
    "df_metric = pd.pivot(df, index=\"model_fullname\", columns=\"dataset\", values=\"acc1\").T.dropna()\n",
    "dataset = \"imagenetv2\"\n",
    "line_fits_data = {\n",
    "    # slopes and intercepts from https://share.streamlit.io/modestyachts/imagenet-testbed-website/main/website.py\n",
    "    \"imagenetv2\": (1.112, -20.433),\n",
    "    \"imagenet-r\": (1.549, -104.556),\n",
    "    \"imagenet_sketch\": (0.931, -45.373)\n",
    "}\n",
    "x=np.linspace(0, 100,100)\n",
    "slope, intercept = line_fits_data[dataset]\n",
    "y=x*slope+intercept\n",
    "plt.xlim(55,90)\n",
    "plt.ylim(40,90)\n",
    "d = df_metric.T[[\"imagenet1k\", dataset]]*100\n",
    "plt.scatter(d[\"imagenet1k\"], d[dataset], color=\"green\")\n",
    "plt.plot(x,y, color=\"red\")\n",
    "plt.xlabel(\"imagenet1k top-1 accuracy (%)\")\n",
    "plt.ylabel(f\"{dataset} top-1 accuracy (%)\")\n",
    "plt.legend()"
   ]
  },
  {
   "cell_type": "markdown",
   "id": "7f52c332-cf8f-4aa4-b47b-7f58078f25f9",
   "metadata": {},
   "source": [
    "### All results (mean_per_class_recall)"
   ]
  },
  {
   "cell_type": "code",
   "execution_count": null,
   "id": "f81989e8-e234-40dc-9889-5e2713e178b0",
   "metadata": {},
   "outputs": [],
   "source": [
    "metric = \"mean_per_class_recall\"\n",
    "pd.pivot(df, index=\"model_fullname\", columns=\"dataset\", values=metric).T.dropna()"
   ]
  },
  {
   "cell_type": "markdown",
   "id": "dba407aa-4103-44aa-bddc-3046ec73aa77",
   "metadata": {},
   "source": [
    "### All results (mAP)"
   ]
  },
  {
   "cell_type": "code",
   "execution_count": null,
   "id": "99130646-f092-43a0-a657-c4e64053dcb5",
   "metadata": {},
   "outputs": [],
   "source": [
    "# For multi-label classification tasks\n",
    "metric = \"mean_average_precision\"\n",
    "pd.pivot(df, index=\"model_fullname\", columns=\"dataset\", values=metric).T.dropna()"
   ]
  },
  {
   "cell_type": "markdown",
   "id": "b75cf72d",
   "metadata": {},
   "source": [
    "## All results (retrieval)"
   ]
  },
  {
   "cell_type": "code",
   "execution_count": null,
   "id": "48f5ea9d",
   "metadata": {},
   "outputs": [],
   "source": [
    "metric = \"image_retrieval_recall@5\"\n",
    "pd.pivot(df_retrieval, index=\"model_fullname\", columns=\"dataset\", values=metric).T.dropna()"
   ]
  },
  {
   "cell_type": "code",
   "execution_count": null,
   "id": "cbc65601",
   "metadata": {},
   "outputs": [],
   "source": [
    "metric = \"text_retrieval_recall@5\"\n",
    "pd.pivot(df_retrieval, index=\"model_fullname\", columns=\"dataset\", values=metric).T.dropna()"
   ]
  },
  {
   "cell_type": "markdown",
   "id": "e30ecf3c-40a3-4c66-836f-4fbd3e3b0e37",
   "metadata": {},
   "source": [
    "## Aggregating over datasets"
   ]
  },
  {
   "cell_type": "markdown",
   "id": "b26606d9-591d-45a1-8cd9-9853bfcc5053",
   "metadata": {},
   "source": [
    "See VTAB (https://arxiv.org/pdf/1910.04867.pdf, Section E) for a discussion about different aggregation \n",
    "strategies and how much they correlate. They find that all aggregation strategies have high\n",
    "Kendall score with the simple top-1 mean accuracy over datasets."
   ]
  },
  {
   "cell_type": "markdown",
   "id": "d14d866e-702f-4cd2-97b0-f6e2c97394d8",
   "metadata": {},
   "source": [
    "### Ranking the models over mean top-1 accuracy over all datasets"
   ]
  },
  {
   "cell_type": "code",
   "execution_count": null,
   "id": "6d0ece3a-de4d-4080-ae82-925bf563819b",
   "metadata": {},
   "outputs": [],
   "source": [
    "df.groupby(\"model_fullname\").agg(['mean', 'std', 'median']).sort_values(by=(\"acc1\", \"mean\"), ascending=False)"
   ]
  },
  {
   "cell_type": "markdown",
   "id": "4791ba73-3c54-4ef0-93a4-59b75b00378e",
   "metadata": {},
   "source": [
    "### Compute rank of the model for each dataset (1 = best, lower is better), then average the ranks over the datasets"
   ]
  },
  {
   "cell_type": "code",
   "execution_count": null,
   "id": "aa0b6dda-b531-4954-b2bd-79d8c910d96d",
   "metadata": {},
   "outputs": [],
   "source": [
    "metric = \"acc1\"\n",
    "df_metric = pd.pivot(df, index=\"model_fullname\", columns=\"dataset\", values=metric).T.dropna()\n",
    "df_metric.rank(axis=1,ascending=False).agg([\"mean\", \"std\"]).T.sort_values(by=\"mean\",ascending=True)"
   ]
  }
 ],
 "metadata": {
  "kernelspec": {
   "display_name": "Python 3",
   "language": "python",
   "name": "python3"
  },
  "language_info": {
   "codemirror_mode": {
    "name": "ipython",
    "version": 3
   },
   "file_extension": ".py",
   "mimetype": "text/x-python",
   "name": "python",
   "nbconvert_exporter": "python",
   "pygments_lexer": "ipython3",
   "version": "3.9.6"
  }
 },
 "nbformat": 4,
 "nbformat_minor": 5
}
